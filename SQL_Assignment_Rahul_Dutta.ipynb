{
  "metadata": {
    "kernelspec": {
      "name": "python",
      "display_name": "Python (Pyodide)",
      "language": "python"
    },
    "language_info": {
      "codemirror_mode": {
        "name": "python",
        "version": 3
      },
      "file_extension": ".py",
      "mimetype": "text/x-python",
      "name": "python",
      "nbconvert_exporter": "python",
      "pygments_lexer": "ipython3",
      "version": "3.8"
    },
    "colab": {
      "provenance": []
    }
  },
  "nbformat_minor": 5,
  "nbformat": 4,
  "cells": [
    {
      "cell_type": "markdown",
      "source": [
        "**Q1. Create the `employees` table with all constraints**"
      ],
      "metadata": {
        "id": "7P-ZUF2VEZKU"
      },
      "id": "7P-ZUF2VEZKU"
    },
    {
      "cell_type": "markdown",
      "source": [
        "**Ans1.**"
      ],
      "metadata": {
        "id": "WPHLr7tgFiJw"
      },
      "id": "WPHLr7tgFiJw"
    },
    {
      "cell_type": "code",
      "source": [
        "sql\n",
        "CREATE TABLE employees (\n",
        "    emp_id INT PRIMARY KEY NOT NULL,\n",
        "    emp_name TEXT NOT NULL,\n",
        "    age INT CHECK (age >= 18),\n",
        "    email TEXT UNIQUE,\n",
        "    salary DECIMAL DEFAULT 30000\n",
        ");"
      ],
      "metadata": {
        "id": "TvLJu1kCFhiK"
      },
      "id": "TvLJu1kCFhiK",
      "execution_count": null,
      "outputs": []
    },
    {
      "cell_type": "markdown",
      "source": [
        "**Q2. Purpose of Constraints and Examples**"
      ],
      "metadata": {
        "id": "D3HEG3qqH760"
      },
      "id": "D3HEG3qqH760"
    },
    {
      "cell_type": "markdown",
      "source": [
        "**Ans2.** **Constraints** ensure **data accuracy, consistency, and integrity** in a database.\n",
        "\n",
        "**Common types:**\n",
        "\n",
        "* **PRIMARY KEY** – Uniquely identifies each record. Example: `emp_id`.\n",
        "* **FOREIGN KEY** – Links records in two tables.\n",
        "* **NOT NULL** – Prevents null values. Ensures required data is present.\n",
        "* **UNIQUE** – Ensures all values in a column are different. Example: `email`.\n",
        "* **CHECK** – Enforces specific conditions (e.g., `age >= 18`).\n",
        "* **DEFAULT** – Provides a default value if none is supplied."
      ],
      "metadata": {
        "id": "IY48mC-9IDwc"
      },
      "id": "IY48mC-9IDwc"
    },
    {
      "cell_type": "markdown",
      "source": [
        "**3. Why use NOT NULL? Can a Primary Key be NULL?**"
      ],
      "metadata": {
        "id": "ncvILdlAI7ZH"
      },
      "id": "ncvILdlAI7ZH"
    },
    {
      "cell_type": "markdown",
      "source": [
        "**Ans3.**\n",
        " * NOT NULL ensures a column always has a value.\n",
        "* A Primary Key cannot contain NULL because it must uniquely identify each record.\n",
        "* If NULLs were allowed, uniqueness couldn't be guaranteed (since NULL ≠ NULL)."
      ],
      "metadata": {
        "id": "6c3WkRxcJMBu"
      },
      "id": "6c3WkRxcJMBu"
    },
    {
      "cell_type": "markdown",
      "source": [
        "**Q4. Add or Remove Constraints on an Existing Table**"
      ],
      "metadata": {
        "id": "Wxa40teXJlaw"
      },
      "id": "Wxa40teXJlaw"
    },
    {
      "cell_type": "markdown",
      "source": [
        "**Ans4.** **Add a constraint:**"
      ],
      "metadata": {
        "id": "CoBRwsGLJspr"
      },
      "id": "CoBRwsGLJspr"
    },
    {
      "cell_type": "code",
      "source": [
        "sql\n",
        "ALTER TABLE employees\n",
        "ADD CONSTRAINT age_check CHECK (age >= 18);"
      ],
      "metadata": {
        "id": "anUUW2kCJ1jW"
      },
      "id": "anUUW2kCJ1jW",
      "execution_count": null,
      "outputs": []
    },
    {
      "cell_type": "markdown",
      "source": [
        "**Remove a constraint:**"
      ],
      "metadata": {
        "id": "_YxPTLPuKFXU"
      },
      "id": "_YxPTLPuKFXU"
    },
    {
      "cell_type": "code",
      "source": [
        "sql\n",
        "ALTER TABLE employees\n",
        "DROP CONSTRAINT age_check;"
      ],
      "metadata": {
        "id": "xAxaOBYQKLSk"
      },
      "id": "xAxaOBYQKLSk",
      "execution_count": null,
      "outputs": []
    },
    {
      "cell_type": "markdown",
      "source": [
        "(Note: Constraint names must be known or defined during creation.)"
      ],
      "metadata": {
        "id": "rSg_KT76KTjJ"
      },
      "id": "rSg_KT76KTjJ"
    },
    {
      "cell_type": "markdown",
      "source": [
        "**Q5. Consequences of Violating Constraints**"
      ],
      "metadata": {
        "id": "NyRjXOxJKnDN"
      },
      "id": "NyRjXOxJKnDN"
    },
    {
      "cell_type": "markdown",
      "source": [
        "**Ans5.** Violating constraints causes errors and prevents invalid data insertion or modification.\n",
        "\n",
        "**Example:**"
      ],
      "metadata": {
        "id": "1qpTOLofKu3y"
      },
      "id": "1qpTOLofKu3y"
    },
    {
      "cell_type": "code",
      "source": [
        "sql\n",
        "INSERT INTO employees (emp_id, emp_name, age, email)\n",
        "VALUES (1, 'John', 16, 'john@example.com');"
      ],
      "metadata": {
        "id": "BzKZVivZK6NO"
      },
      "id": "BzKZVivZK6NO",
      "execution_count": null,
      "outputs": []
    },
    {
      "cell_type": "markdown",
      "source": [
        "**Error:**"
      ],
      "metadata": {
        "id": "P8G6i7IKLEPy"
      },
      "id": "P8G6i7IKLEPy"
    },
    {
      "cell_type": "markdown",
      "source": [
        "ERROR: new row for relation \"employees\" violates check constraint \"employees_age_check\""
      ],
      "metadata": {
        "id": "O7PrQfdELE77"
      },
      "id": "O7PrQfdELE77"
    },
    {
      "cell_type": "markdown",
      "source": [
        "**Q6. Altering `products` table to add constraints**"
      ],
      "metadata": {
        "id": "H4rEkN82LU4W"
      },
      "id": "H4rEkN82LU4W"
    },
    {
      "cell_type": "code",
      "source": [
        "sql\n",
        "ALTER TABLE products\n",
        "ADD CONSTRAINT product_pk PRIMARY KEY (product_id);\n",
        "\n",
        "ALTER TABLE products\n",
        "ALTER COLUMN price SET DEFAULT 50.00;"
      ],
      "metadata": {
        "id": "kbklrcLVLbbY"
      },
      "id": "kbklrcLVLbbY",
      "execution_count": null,
      "outputs": []
    },
    {
      "cell_type": "markdown",
      "source": [
        "**Q7. INNER JOIN for student and class names**"
      ],
      "metadata": {
        "id": "I0rpywuHLkrp"
      },
      "id": "I0rpywuHLkrp"
    },
    {
      "cell_type": "markdown",
      "source": [
        "**Ans7.** Assume:\n",
        "\n",
        "* `students(student_id, student_name, class_id)`\n",
        "* `classes(class_id, class_name)`"
      ],
      "metadata": {
        "id": "qnJnIMvZLsZr"
      },
      "id": "qnJnIMvZLsZr"
    },
    {
      "cell_type": "code",
      "source": [
        "sql\n",
        "SELECT s.student_name, c.class_name\n",
        "FROM students s\n",
        "INNER JOIN classes c ON s.class_id = c.class_id;"
      ],
      "metadata": {
        "id": "rdtIqfmlL1ao"
      },
      "id": "rdtIqfmlL1ao",
      "execution_count": null,
      "outputs": []
    },
    {
      "cell_type": "markdown",
      "source": [
        "**Q8. LEFT JOIN to show all products and related orders**"
      ],
      "metadata": {
        "id": "roWaJVo4L_Ik"
      },
      "id": "roWaJVo4L_Ik"
    },
    {
      "cell_type": "markdown",
      "source": [
        "**Ans8.** Assume:\n",
        "\n",
        "* `orders(order_id, customer_id, product_id)`\n",
        "* `customers(customer_id, customer_name)`\n",
        "* `products(product_id, product_name)`"
      ],
      "metadata": {
        "id": "bX_yw03AMHrw"
      },
      "id": "bX_yw03AMHrw"
    },
    {
      "cell_type": "code",
      "source": [
        "SELECT o.order_id, c.customer_name, p.product_name\n",
        "FROM products p\n",
        "LEFT JOIN orders o ON p.product_id = o.product_id\n",
        "LEFT JOIN customers c ON o.customer_id = c.customer_id;"
      ],
      "metadata": {
        "id": "2FFnl3S7MURa"
      },
      "id": "2FFnl3S7MURa",
      "execution_count": null,
      "outputs": []
    },
    {
      "cell_type": "markdown",
      "source": [
        "**Q9. Total sales amount for each product**"
      ],
      "metadata": {
        "id": "bnr9jBvyMf4Q"
      },
      "id": "bnr9jBvyMf4Q"
    },
    {
      "cell_type": "markdown",
      "source": [
        "**Ans9.** Assume:\n",
        "\n",
        "* `orders(order_id, product_id, quantity)`\n",
        "* `products(product_id, product_name, price)`"
      ],
      "metadata": {
        "id": "nyFfaqK4MpMM"
      },
      "id": "nyFfaqK4MpMM"
    },
    {
      "cell_type": "code",
      "source": [
        "sql\n",
        "SELECT p.product_name, SUM(o.quantity * p.price) AS total_sales\n",
        "FROM orders o\n",
        "INNER JOIN products p ON o.product_id = p.product_id\n",
        "GROUP BY p.product_name;"
      ],
      "metadata": {
        "id": "yxlV27IiM3lw"
      },
      "id": "yxlV27IiM3lw",
      "execution_count": null,
      "outputs": []
    },
    {
      "cell_type": "markdown",
      "source": [
        "**Q10. Show order ID, customer name, and quantity**"
      ],
      "metadata": {
        "id": "E0CvWJeINa5a"
      },
      "id": "E0CvWJeINa5a"
    },
    {
      "cell_type": "markdown",
      "source": [
        "**Ans10.** Assume:\n",
        "\n",
        "* `orders(order_id, customer_id)`\n",
        "* `customers(customer_id, customer_name)`\n",
        "* `order_details(order_id, product_id, quantity)`"
      ],
      "metadata": {
        "id": "sYpeNCIQNgKe"
      },
      "id": "sYpeNCIQNgKe"
    },
    {
      "cell_type": "code",
      "source": [
        "sql\n",
        "SELECT o.order_id, c.customer_name, od.quantity\n",
        "FROM orders o\n",
        "INNER JOIN customers c ON o.customer_id = c.customer_id\n",
        "INNER JOIN order_details od ON o.order_id = od.order_id;"
      ],
      "metadata": {
        "id": "eDN8E9-eN33t"
      },
      "id": "eDN8E9-eN33t",
      "execution_count": null,
      "outputs": []
    },
    {
      "cell_type": "markdown",
      "source": [
        "**SQL COMMANDS**"
      ],
      "metadata": {
        "id": "4eRVwr1VObOJ"
      },
      "id": "4eRVwr1VObOJ"
    },
    {
      "cell_type": "markdown",
      "source": [
        "**Q1. Identify primary keys and foreign keys in Maven Movies DB**"
      ],
      "metadata": {
        "id": "vuAf2O3VO0li"
      },
      "id": "vuAf2O3VO0li"
    },
    {
      "cell_type": "markdown",
      "source": [
        "**Ans.** **Primary Keys:**\n",
        "\n",
        "* `actor(actor_id)`\n",
        "* `customer(customer_id)`\n",
        "* `film(film_id)`\n",
        "* `rental(rental_id)`\n",
        "* `inventory(inventory_id)`\n",
        "* `payment(payment_id)`\n",
        "* `address(address_id)`\n",
        "* `city(city_id)`\n",
        "* `country(country_id)`\n",
        "* etc.\n",
        "\n",
        "**Foreign Keys:**\n",
        "\n",
        "* `customer.address_id → address.address_id`\n",
        "* `address.city_id → city.city_id`\n",
        "* `city.country_id → country.country_id`\n",
        "* `inventory.film_id → film.film_id`\n",
        "* `inventory.store_id → store.store_id`\n",
        "* `rental.customer_id → customer.customer_id`\n",
        "* `rental.inventory_id → inventory.inventory_id`\n",
        "* `payment.customer_id → customer.customer_id`\n",
        "* `payment.rental_id → rental.rental_id`\n",
        "\n",
        "**Difference:**\n",
        "\n",
        "* **Primary Key** uniquely identifies each record.\n",
        "* **Foreign Key** links a record to another table, enforcing referential integrity."
      ],
      "metadata": {
        "id": "iZHjDAQJO7sI"
      },
      "id": "iZHjDAQJO7sI"
    },
    {
      "cell_type": "markdown",
      "source": [
        "**Q2. List all details of actors**"
      ],
      "metadata": {
        "id": "lkl76Gz-PRHO"
      },
      "id": "lkl76Gz-PRHO"
    },
    {
      "cell_type": "code",
      "source": [
        "sql\n",
        "SELECT * FROM actor;"
      ],
      "metadata": {
        "id": "sIxrLKddPXY7"
      },
      "id": "sIxrLKddPXY7",
      "execution_count": null,
      "outputs": []
    },
    {
      "cell_type": "markdown",
      "source": [
        "**Q3. List all customer information**"
      ],
      "metadata": {
        "id": "_YcGYK6KPd2M"
      },
      "id": "_YcGYK6KPd2M"
    },
    {
      "cell_type": "code",
      "source": [
        "sql\n",
        "SELECT * FROM customer;"
      ],
      "metadata": {
        "id": "WjhN8S1GPj-y"
      },
      "id": "WjhN8S1GPj-y",
      "execution_count": null,
      "outputs": []
    },
    {
      "cell_type": "markdown",
      "source": [
        "**Q4. List different countries**"
      ],
      "metadata": {
        "id": "Uz239c64PoVF"
      },
      "id": "Uz239c64PoVF"
    },
    {
      "cell_type": "code",
      "source": [],
      "metadata": {
        "id": "kd_EvakwPzxt"
      },
      "id": "kd_EvakwPzxt",
      "execution_count": null,
      "outputs": []
    },
    {
      "cell_type": "markdown",
      "source": [
        "**5. Display all active customers**"
      ],
      "metadata": {
        "id": "p_mF3gFAP5sM"
      },
      "id": "p_mF3gFAP5sM"
    },
    {
      "cell_type": "code",
      "source": [
        "sql\n",
        "SELECT * FROM customer WHERE active = 1;"
      ],
      "metadata": {
        "id": "c3l5QqtEQKZv"
      },
      "id": "c3l5QqtEQKZv",
      "execution_count": null,
      "outputs": []
    },
    {
      "cell_type": "markdown",
      "source": [
        "**Q6. Rental IDs for customer with ID 1**"
      ],
      "metadata": {
        "id": "aM-s--XtQODE"
      },
      "id": "aM-s--XtQODE"
    },
    {
      "cell_type": "code",
      "source": [
        "sql\n",
        "SELECT rental_id FROM rental WHERE customer_id = 1;"
      ],
      "metadata": {
        "id": "ldDbNTIVQUOm"
      },
      "id": "ldDbNTIVQUOm",
      "execution_count": null,
      "outputs": []
    },
    {
      "cell_type": "markdown",
      "source": [
        "**Q7. Films with rental duration > 5**"
      ],
      "metadata": {
        "id": "89UfUqMzQkPP"
      },
      "id": "89UfUqMzQkPP"
    },
    {
      "cell_type": "code",
      "source": [
        "sql\n",
        "SELECT * FROM film WHERE rental_duration > 5;"
      ],
      "metadata": {
        "id": "o2U_AZW7QqmR"
      },
      "id": "o2U_AZW7QqmR",
      "execution_count": null,
      "outputs": []
    },
    {
      "cell_type": "markdown",
      "source": [
        "**Q8. Count of films with replacement cost between \\$15 and \\$20**"
      ],
      "metadata": {
        "id": "cRptCPWIRVkB"
      },
      "id": "cRptCPWIRVkB"
    },
    {
      "cell_type": "code",
      "source": [
        "sql\n",
        "SELECT COUNT(*) FROM film\n",
        "WHERE replacement_cost > 15 AND replacement_cost < 20;"
      ],
      "metadata": {
        "id": "_aSpBWf7Rdwb"
      },
      "id": "_aSpBWf7Rdwb",
      "execution_count": null,
      "outputs": []
    },
    {
      "cell_type": "markdown",
      "source": [
        "**Q9. Count of unique actor first names**"
      ],
      "metadata": {
        "id": "fbhAVlK0Rh4X"
      },
      "id": "fbhAVlK0Rh4X"
    },
    {
      "cell_type": "code",
      "source": [
        "sql\n",
        "SELECT COUNT(DISTINCT first_name) FROM actor;"
      ],
      "metadata": {
        "id": "wGufyiLJRnOX"
      },
      "id": "wGufyiLJRnOX",
      "execution_count": null,
      "outputs": []
    },
    {
      "cell_type": "markdown",
      "source": [
        "**Q10. First 10 records from customer table**"
      ],
      "metadata": {
        "id": "d39UDgB3Rv6s"
      },
      "id": "d39UDgB3Rv6s"
    },
    {
      "cell_type": "code",
      "source": [
        "sql\n",
        "SELECT * FROM customer LIMIT 10;"
      ],
      "metadata": {
        "id": "zdSQBfumR2R5"
      },
      "id": "zdSQBfumR2R5",
      "execution_count": null,
      "outputs": []
    },
    {
      "cell_type": "markdown",
      "source": [
        "**Q11. First 3 customers whose first name starts with 'b'**"
      ],
      "metadata": {
        "id": "sE8Q6E9qR5uK"
      },
      "id": "sE8Q6E9qR5uK"
    },
    {
      "cell_type": "code",
      "source": [
        "sql\n",
        "SELECT * FROM customer\n",
        "WHERE first_name LIKE 'b%'\n",
        "LIMIT 3;"
      ],
      "metadata": {
        "id": "7LJIEBYsR_du"
      },
      "id": "7LJIEBYsR_du",
      "execution_count": null,
      "outputs": []
    },
    {
      "cell_type": "markdown",
      "source": [
        "**Q12. First 5 movies rated as ‘G’**"
      ],
      "metadata": {
        "id": "TfgCVKqJSF8i"
      },
      "id": "TfgCVKqJSF8i"
    },
    {
      "cell_type": "code",
      "source": [
        "sql\n",
        "SELECT title FROM film\n",
        "WHERE rating = 'G'\n",
        "LIMIT 5;"
      ],
      "metadata": {
        "id": "ROalyneZSLpJ"
      },
      "id": "ROalyneZSLpJ",
      "execution_count": null,
      "outputs": []
    },
    {
      "cell_type": "markdown",
      "source": [
        "**Q13. Customers whose first name starts with \"a\"**"
      ],
      "metadata": {
        "id": "4nhbAgW_SYzD"
      },
      "id": "4nhbAgW_SYzD"
    },
    {
      "cell_type": "code",
      "source": [
        "sql\n",
        "SELECT * FROM customer\n",
        "WHERE first_name LIKE 'a%';"
      ],
      "metadata": {
        "id": "_UbMFgfcSecu"
      },
      "id": "_UbMFgfcSecu",
      "execution_count": null,
      "outputs": []
    },
    {
      "cell_type": "markdown",
      "source": [
        "**Q14. Customers whose first name ends with \"a\"**"
      ],
      "metadata": {
        "id": "UsBXAn3uSkSA"
      },
      "id": "UsBXAn3uSkSA"
    },
    {
      "cell_type": "code",
      "source": [
        "sql\n",
        "SELECT * FROM customer\n",
        "WHERE first_name LIKE '%a';"
      ],
      "metadata": {
        "id": "88ni6wg2SrZe"
      },
      "id": "88ni6wg2SrZe",
      "execution_count": null,
      "outputs": []
    },
    {
      "cell_type": "markdown",
      "source": [
        "**Q15. First 4 cities that start and end with 'a'**"
      ],
      "metadata": {
        "id": "AwDMT9AfSwy1"
      },
      "id": "AwDMT9AfSwy1"
    },
    {
      "cell_type": "code",
      "source": [
        "sql\n",
        "SELECT city FROM city\n",
        "WHERE city LIKE 'a%a'\n",
        "LIMIT 4;"
      ],
      "metadata": {
        "id": "94AmUX2ZS4ec"
      },
      "id": "94AmUX2ZS4ec",
      "execution_count": null,
      "outputs": []
    },
    {
      "cell_type": "markdown",
      "source": [
        "**Q16. Customers whose first name contains \"NI\"**"
      ],
      "metadata": {
        "id": "wBYH23IAS-MT"
      },
      "id": "wBYH23IAS-MT"
    },
    {
      "cell_type": "code",
      "source": [
        "sql\n",
        "SELECT * FROM customer\n",
        "WHERE first_name LIKE '%NI%';"
      ],
      "metadata": {
        "id": "KLkVUWJGTMeM"
      },
      "id": "KLkVUWJGTMeM",
      "execution_count": null,
      "outputs": []
    },
    {
      "cell_type": "markdown",
      "source": [
        "**Q17. Customers whose first name has \"r\" in second position**"
      ],
      "metadata": {
        "id": "vsuekRURTQ9r"
      },
      "id": "vsuekRURTQ9r"
    },
    {
      "cell_type": "code",
      "source": [
        "sql\n",
        "SELECT * FROM customer\n",
        "WHERE first_name LIKE '_r%';"
      ],
      "metadata": {
        "id": "SWcJVRITTjIp"
      },
      "id": "SWcJVRITTjIp",
      "execution_count": null,
      "outputs": []
    },
    {
      "cell_type": "markdown",
      "source": [
        "**Q18. Customers whose first name starts with \"a\" and is at least 5 characters**"
      ],
      "metadata": {
        "id": "lETvIN63Tq7r"
      },
      "id": "lETvIN63Tq7r"
    },
    {
      "cell_type": "code",
      "source": [
        "sql\n",
        "SELECT * FROM customer\n",
        "WHERE first_name LIKE 'a%' AND LENGTH(first_name) >= 5;"
      ],
      "metadata": {
        "id": "sBV6gkgnTx1e"
      },
      "id": "sBV6gkgnTx1e",
      "execution_count": null,
      "outputs": []
    },
    {
      "cell_type": "markdown",
      "source": [
        "**Q19. Customers whose first name starts with \"a\" and ends with \"o\"**"
      ],
      "metadata": {
        "id": "8VVbrrg8T2W9"
      },
      "id": "8VVbrrg8T2W9"
    },
    {
      "cell_type": "code",
      "source": [
        "sql\n",
        "SELECT * FROM customer\n",
        "WHERE first_name LIKE 'a%o';"
      ],
      "metadata": {
        "id": "yGQJFwKzT8Wf"
      },
      "id": "yGQJFwKzT8Wf",
      "execution_count": null,
      "outputs": []
    },
    {
      "cell_type": "markdown",
      "source": [
        "**Q20. Films with rating ‘PG’ or ‘PG-13’ using IN**"
      ],
      "metadata": {
        "id": "b1sbvgyfUCVx"
      },
      "id": "b1sbvgyfUCVx"
    },
    {
      "cell_type": "code",
      "source": [
        "sql\n",
        "SELECT * FROM film\n",
        "WHERE rating IN ('PG', 'PG-13');"
      ],
      "metadata": {
        "id": "bMqlZtL1UGSU"
      },
      "id": "bMqlZtL1UGSU",
      "execution_count": null,
      "outputs": []
    },
    {
      "cell_type": "markdown",
      "source": [
        "**Q21. Films with length between 50 and 100**"
      ],
      "metadata": {
        "id": "k4_npsG_ULkd"
      },
      "id": "k4_npsG_ULkd"
    },
    {
      "cell_type": "code",
      "source": [
        "sql\n",
        "SELECT * FROM film\n",
        "WHERE length BETWEEN 50 AND 100;"
      ],
      "metadata": {
        "id": "8l6Ir9ndUUqu"
      },
      "id": "8l6Ir9ndUUqu",
      "execution_count": null,
      "outputs": []
    },
    {
      "cell_type": "markdown",
      "source": [
        "**Q22. Top 50 actors**"
      ],
      "metadata": {
        "id": "KdKYoUiCUgUR"
      },
      "id": "KdKYoUiCUgUR"
    },
    {
      "cell_type": "code",
      "source": [
        "sql\n",
        "SELECT * FROM actor\n",
        "LIMIT 50;"
      ],
      "metadata": {
        "id": "ahC6bnCoUl8v"
      },
      "id": "ahC6bnCoUl8v",
      "execution_count": null,
      "outputs": []
    },
    {
      "cell_type": "markdown",
      "source": [
        "**Q23. Distinct film IDs from inventory table**"
      ],
      "metadata": {
        "id": "ukA1Ku_1UqOb"
      },
      "id": "ukA1Ku_1UqOb"
    },
    {
      "cell_type": "code",
      "source": [
        "sql\n",
        "SELECT DISTINCT film_id FROM inventory;"
      ],
      "metadata": {
        "id": "bUHCjeEWUvX4"
      },
      "id": "bUHCjeEWUvX4",
      "execution_count": null,
      "outputs": []
    },
    {
      "cell_type": "markdown",
      "source": [
        "**Question 1: Total number of rentals**"
      ],
      "metadata": {
        "id": "EQYAvz3MU4Ws"
      },
      "id": "EQYAvz3MU4Ws"
    },
    {
      "cell_type": "code",
      "source": [
        "sql\n",
        "SELECT COUNT(*) AS total_rentals\n",
        "FROM rental;"
      ],
      "metadata": {
        "id": "QoBX8oweU-dB"
      },
      "id": "QoBX8oweU-dB",
      "execution_count": null,
      "outputs": []
    },
    {
      "cell_type": "markdown",
      "source": [
        "**Question 2: Average rental duration (in days)**"
      ],
      "metadata": {
        "id": "aNeBcXS8VH-J"
      },
      "id": "aNeBcXS8VH-J"
    },
    {
      "cell_type": "code",
      "source": [
        "sql\n",
        "SELECT AVG(rental_duration) AS average_rental_duration\n",
        "FROM film;"
      ],
      "metadata": {
        "id": "O8oLsi_OVNCo"
      },
      "id": "O8oLsi_OVNCo",
      "execution_count": null,
      "outputs": []
    },
    {
      "cell_type": "markdown",
      "source": [
        "`rental_duration` is stored in the `film` table, representing the rental period for each film."
      ],
      "metadata": {
        "id": "arImAYm8VTHN"
      },
      "id": "arImAYm8VTHN"
    },
    {
      "cell_type": "markdown",
      "source": [
        "**Question 3: Display customer names in uppercase**"
      ],
      "metadata": {
        "id": "5KB3i80zVaA_"
      },
      "id": "5KB3i80zVaA_"
    },
    {
      "cell_type": "code",
      "source": [
        "sql\n",
        "SELECT UPPER(first_name) AS first_name_upper,\n",
        "       UPPER(last_name) AS last_name_upper\n",
        "FROM customer;"
      ],
      "metadata": {
        "id": "9G-pPdhLVi7T"
      },
      "id": "9G-pPdhLVi7T",
      "execution_count": null,
      "outputs": []
    },
    {
      "cell_type": "markdown",
      "source": [
        "**Question 4: Extract month from rental date with rental ID**\n",
        "\n"
      ],
      "metadata": {
        "id": "Tj_EoVrvV0jF"
      },
      "id": "Tj_EoVrvV0jF"
    },
    {
      "cell_type": "code",
      "source": [
        "sql\n",
        "SELECT rental_id,\n",
        "       MONTH(rental_date) AS rental_month\n",
        "FROM rental;"
      ],
      "metadata": {
        "id": "kOny8d_pV830"
      },
      "id": "kOny8d_pV830",
      "execution_count": null,
      "outputs": []
    },
    {
      "cell_type": "markdown",
      "source": [
        "**Question 5: Count of rentals per customer**"
      ],
      "metadata": {
        "id": "3kHP9tM2WGew"
      },
      "id": "3kHP9tM2WGew"
    },
    {
      "cell_type": "code",
      "source": [
        "sql\n",
        "SELECT customer_id,\n",
        "       COUNT(*) AS rental_count\n",
        "FROM rental\n",
        "GROUP BY customer_id;"
      ],
      "metadata": {
        "id": "0fwTqNlIWMkx"
      },
      "id": "0fwTqNlIWMkx",
      "execution_count": null,
      "outputs": []
    },
    {
      "cell_type": "markdown",
      "source": [
        "**Question 6: Total revenue per store**"
      ],
      "metadata": {
        "id": "_FAmeefaWUq2"
      },
      "id": "_FAmeefaWUq2"
    },
    {
      "cell_type": "code",
      "source": [
        "sql\n",
        "SELECT store_id,\n",
        "       SUM(amount) AS total_revenue\n",
        "FROM payment\n",
        "JOIN staff ON payment.staff_id = staff.staff_id\n",
        "GROUP BY store_id;"
      ],
      "metadata": {
        "id": "YlNTurCBWZhO"
      },
      "id": "YlNTurCBWZhO",
      "execution_count": null,
      "outputs": []
    },
    {
      "cell_type": "markdown",
      "source": [
        "`payment.staff_id → staff.store_id` is used to associate payments with stores."
      ],
      "metadata": {
        "id": "sw3ceGLbWe8u"
      },
      "id": "sw3ceGLbWe8u"
    },
    {
      "cell_type": "markdown",
      "source": [
        "**Question 7: Total rentals per category**\n"
      ],
      "metadata": {
        "id": "B-tth1sdWliB"
      },
      "id": "B-tth1sdWliB"
    },
    {
      "cell_type": "code",
      "source": [
        "sql\n",
        "SELECT c.name AS category_name,\n",
        "       COUNT(r.rental_id) AS total_rentals\n",
        "FROM rental r\n",
        "JOIN inventory i ON r.inventory_id = i.inventory_id\n",
        "JOIN film f ON i.film_id = f.film_id\n",
        "JOIN film_category fc ON f.film_id = fc.film_id\n",
        "JOIN category c ON fc.category_id = c.category_id\n",
        "GROUP BY c.name;"
      ],
      "metadata": {
        "id": "J3uxUQncWwlY"
      },
      "id": "J3uxUQncWwlY",
      "execution_count": null,
      "outputs": []
    },
    {
      "cell_type": "markdown",
      "source": [
        "**Question 8: Average rental rate per language**"
      ],
      "metadata": {
        "id": "nf-TcGsAW4L0"
      },
      "id": "nf-TcGsAW4L0"
    },
    {
      "cell_type": "code",
      "source": [
        "sql\n",
        "SELECT l.name AS language,\n",
        "       AVG(f.rental_rate) AS average_rental_rate\n",
        "FROM film f\n",
        "JOIN language l ON f.language_id = l.language_id\n",
        "GROUP BY l.name;"
      ],
      "metadata": {
        "id": "OlQ3MBbGW9mt"
      },
      "id": "OlQ3MBbGW9mt",
      "execution_count": null,
      "outputs": []
    },
    {
      "cell_type": "markdown",
      "source": [
        "**Question 9: Movie title and customer name who rented it**"
      ],
      "metadata": {
        "id": "84LLtmLdXEs_"
      },
      "id": "84LLtmLdXEs_"
    },
    {
      "cell_type": "code",
      "source": [
        "sql\n",
        "SELECT f.title,\n",
        "       c.first_name,\n",
        "       c.last_name\n",
        "FROM rental r\n",
        "JOIN inventory i ON r.inventory_id = i.inventory_id\n",
        "JOIN film f ON i.film_id = f.film_id\n",
        "JOIN customer c ON r.customer_id = c.customer_id;"
      ],
      "metadata": {
        "id": "RYd2mI5gXUhJ"
      },
      "id": "RYd2mI5gXUhJ",
      "execution_count": null,
      "outputs": []
    },
    {
      "cell_type": "markdown",
      "source": [
        "**Question 10: Actors in \"Gone with the Wind\"**"
      ],
      "metadata": {
        "id": "1rxbzQGcXaeu"
      },
      "id": "1rxbzQGcXaeu"
    },
    {
      "cell_type": "code",
      "source": [
        "sql\n",
        "SELECT a.first_name,\n",
        "       a.last_name\n",
        "FROM actor a\n",
        "JOIN film_actor fa ON a.actor_id = fa.actor_id\n",
        "JOIN film f ON fa.film_id = f.film_id\n",
        "WHERE f.title = 'Gone with the Wind';"
      ],
      "metadata": {
        "id": "l2PvnJ5yXhJb"
      },
      "id": "l2PvnJ5yXhJb",
      "execution_count": null,
      "outputs": []
    },
    {
      "cell_type": "markdown",
      "source": [
        "**Question 11: Customer names and total amount spent**"
      ],
      "metadata": {
        "id": "Dyzx2JFEXrF_"
      },
      "id": "Dyzx2JFEXrF_"
    },
    {
      "cell_type": "code",
      "source": [
        "sql\n",
        "SELECT c.first_name,\n",
        "       c.last_name,\n",
        "       SUM(p.amount) AS total_spent\n",
        "FROM customer c\n",
        "JOIN payment p ON c.customer_id = p.customer_id\n",
        "GROUP BY c.customer_id, c.first_name, c.last_name;"
      ],
      "metadata": {
        "id": "jpxBCAVHXv_r"
      },
      "id": "jpxBCAVHXv_r",
      "execution_count": null,
      "outputs": []
    },
    {
      "cell_type": "markdown",
      "source": [
        "**Question 12: Movies rented by each customer in 'London'**"
      ],
      "metadata": {
        "id": "s5y5DfPWX2BC"
      },
      "id": "s5y5DfPWX2BC"
    },
    {
      "cell_type": "code",
      "source": [
        "sql\n",
        "SELECT c.first_name,\n",
        "       c.last_name,\n",
        "       f.title\n",
        "FROM customer c\n",
        "JOIN address a ON c.address_id = a.address_id\n",
        "JOIN city ci ON a.city_id = ci.city_id\n",
        "JOIN rental r ON c.customer_id = r.customer_id\n",
        "JOIN inventory i ON r.inventory_id = i.inventory_id\n",
        "JOIN film f ON i.film_id = f.film_id\n",
        "WHERE ci.city = 'London'\n",
        "GROUP BY c.first_name, c.last_name, f.title;"
      ],
      "metadata": {
        "id": "g1FF9MsSX8L2"
      },
      "id": "g1FF9MsSX8L2",
      "execution_count": null,
      "outputs": []
    },
    {
      "cell_type": "markdown",
      "source": [
        "**Question 13: Top 5 most rented movies**"
      ],
      "metadata": {
        "id": "d4KSFw2HYD4I"
      },
      "id": "d4KSFw2HYD4I"
    },
    {
      "cell_type": "code",
      "source": [
        "sql\n",
        "SELECT f.title,\n",
        "       COUNT(r.rental_id) AS times_rented\n",
        "FROM rental r\n",
        "JOIN inventory i ON r.inventory_id = i.inventory_id\n",
        "JOIN film f ON i.film_id = f.film_id\n",
        "GROUP BY f.title\n",
        "ORDER BY times_rented DESC\n",
        "LIMIT 5;"
      ],
      "metadata": {
        "id": "BXHZbxF5YIwE"
      },
      "id": "BXHZbxF5YIwE",
      "execution_count": null,
      "outputs": []
    },
    {
      "cell_type": "markdown",
      "source": [
        "**Question 14: Customers who rented from both stores (store 1 and store 2)**"
      ],
      "metadata": {
        "id": "H_rjs0HCYOMG"
      },
      "id": "H_rjs0HCYOMG"
    },
    {
      "cell_type": "code",
      "source": [
        "sql\n",
        "SELECT customer_id\n",
        "FROM (\n",
        "    SELECT DISTINCT customer_id, store_id\n",
        "    FROM rental r\n",
        "    JOIN inventory i ON r.inventory_id = i.inventory_id\n",
        "    JOIN staff s ON r.staff_id = s.staff_id\n",
        ") AS customer_stores\n",
        "GROUP BY customer_id\n",
        "HAVING COUNT(DISTINCT store_id) = 2;"
      ],
      "metadata": {
        "id": "rwGp9w7mYS4O"
      },
      "id": "rwGp9w7mYS4O",
      "execution_count": null,
      "outputs": []
    },
    {
      "cell_type": "markdown",
      "source": [
        "**Optionally, to get names:**"
      ],
      "metadata": {
        "id": "-R5iAot9YfyH"
      },
      "id": "-R5iAot9YfyH"
    },
    {
      "cell_type": "code",
      "source": [
        "sql\n",
        "SELECT c.first_name, c.last_name\n",
        "FROM customer c\n",
        "WHERE c.customer_id IN (\n",
        "    SELECT customer_id\n",
        "    FROM (\n",
        "        SELECT DISTINCT customer_id, store_id\n",
        "        FROM rental r\n",
        "        JOIN inventory i ON r.inventory_id = i.inventory_id\n",
        "        JOIN staff s ON r.staff_id = s.staff_id\n",
        "    ) AS customer_stores\n",
        "    GROUP BY customer_id\n",
        "    HAVING COUNT(DISTINCT store_id) = 2\n",
        ");"
      ],
      "metadata": {
        "id": "xWbg8AVwYa5V"
      },
      "id": "xWbg8AVwYa5V",
      "execution_count": null,
      "outputs": []
    },
    {
      "cell_type": "markdown",
      "source": [
        "**Windows Function:**"
      ],
      "metadata": {
        "id": "A99ASSWsYth7"
      },
      "id": "A99ASSWsYth7"
    },
    {
      "cell_type": "markdown",
      "source": [
        "**Q1. Rank the customers based on the total amount they've spent on rentals**"
      ],
      "metadata": {
        "id": "0rh4YELbY9w1"
      },
      "id": "0rh4YELbY9w1"
    },
    {
      "id": "61118b89-bd8d-4a14-9fcc-4f6477e3bb0a",
      "cell_type": "code",
      "source": [
        "     sql\n",
        "SELECT customer_id,\n",
        "       first_name,\n",
        "       last_name,\n",
        "       SUM(amount) AS total_spent,\n",
        "       RANK() OVER (ORDER BY SUM(amount) DESC) AS spending_rank\n",
        "FROM customer\n",
        "JOIN payment ON customer.customer_id = payment.customer_id\n",
        "GROUP BY customer.customer_id, first_name, last_name;"
      ],
      "metadata": {
        "trusted": true,
        "id": "61118b89-bd8d-4a14-9fcc-4f6477e3bb0a"
      },
      "outputs": [],
      "execution_count": null
    },
    {
      "cell_type": "markdown",
      "source": [
        "**Q2. Calculate the cumulative revenue generated by each film over time**"
      ],
      "metadata": {
        "id": "XFqoP8OGZJAs"
      },
      "id": "XFqoP8OGZJAs"
    },
    {
      "cell_type": "code",
      "source": [
        "sql\n",
        "SELECT f.title,\n",
        "       r.rental_date,\n",
        "       SUM(p.amount) OVER (PARTITION BY f.film_id ORDER BY r.rental_date) AS cumulative_revenue\n",
        "FROM film f\n",
        "JOIN inventory i ON f.film_id = i.film_id\n",
        "JOIN rental r ON i.inventory_id = r.inventory_id\n",
        "JOIN payment p ON r.rental_id = p.rental_id;"
      ],
      "metadata": {
        "id": "h1MSsUpBZPXI"
      },
      "id": "h1MSsUpBZPXI",
      "execution_count": null,
      "outputs": []
    },
    {
      "cell_type": "markdown",
      "source": [
        "**Q3. Average rental duration for each film, considering films with similar lengths**"
      ],
      "metadata": {
        "id": "m7BW1Pp-ZTyS"
      },
      "id": "m7BW1Pp-ZTyS"
    },
    {
      "cell_type": "code",
      "source": [
        "sql\n",
        "SELECT film_id,\n",
        "       title,\n",
        "       length,\n",
        "       AVG(rental_duration) OVER (PARTITION BY length) AS avg_rental_duration_for_length_group\n",
        "FROM film;"
      ],
      "metadata": {
        "id": "-umz1jp9ZZsJ"
      },
      "id": "-umz1jp9ZZsJ",
      "execution_count": null,
      "outputs": []
    },
    {
      "cell_type": "markdown",
      "source": [
        "**Q4. Top 3 films in each category based on rental counts**"
      ],
      "metadata": {
        "id": "OX6BOx1GZg74"
      },
      "id": "OX6BOx1GZg74"
    },
    {
      "cell_type": "code",
      "source": [
        "sql\n",
        "SELECT category_name, title, rental_count\n",
        "FROM (\n",
        "    SELECT c.name AS category_name,\n",
        "           f.title,\n",
        "           COUNT(r.rental_id) AS rental_count,\n",
        "           RANK() OVER (PARTITION BY c.name ORDER BY COUNT(r.rental_id) DESC) AS film_rank\n",
        "    FROM rental r\n",
        "    JOIN inventory i ON r.inventory_id = i.inventory_id\n",
        "    JOIN film f ON i.film_id = f.film_id\n",
        "    JOIN film_category fc ON f.film_id = fc.film_id\n",
        "    JOIN category c ON fc.category_id = c.category_id\n",
        "    GROUP BY c.name, f.title\n",
        ") ranked\n",
        "WHERE film_rank <= 3;"
      ],
      "metadata": {
        "id": "Q9NNlfV_ZndT"
      },
      "id": "Q9NNlfV_ZndT",
      "execution_count": null,
      "outputs": []
    },
    {
      "cell_type": "markdown",
      "source": [
        "**Q5. Difference in rental counts between each customer and the average rentals**"
      ],
      "metadata": {
        "id": "ZHlEud8WZtWh"
      },
      "id": "ZHlEud8WZtWh"
    },
    {
      "cell_type": "code",
      "source": [
        "sql\n",
        "SELECT customer_id,\n",
        "       COUNT(rental_id) AS total_rentals,\n",
        "       ROUND(AVG(COUNT(rental_id)) OVER (), 2) AS avg_rentals,\n",
        "       COUNT(rental_id) - ROUND(AVG(COUNT(rental_id)) OVER (), 2) AS rental_diff\n",
        "FROM rental\n",
        "GROUP BY customer_id;"
      ],
      "metadata": {
        "id": "RSybrt5sZ1RO"
      },
      "id": "RSybrt5sZ1RO",
      "execution_count": null,
      "outputs": []
    },
    {
      "cell_type": "markdown",
      "source": [
        "**6. Monthly revenue trend for the entire rental store**"
      ],
      "metadata": {
        "id": "dUBmhUU-Z5nf"
      },
      "id": "dUBmhUU-Z5nf"
    },
    {
      "cell_type": "code",
      "source": [
        "sql\n",
        "SELECT DATE_FORMAT(payment_date, '%Y-%m') AS month,\n",
        "       SUM(amount) AS total_revenue\n",
        "FROM payment\n",
        "GROUP BY DATE_FORMAT(payment_date, '%Y-%m')\n",
        "ORDER BY month;"
      ],
      "metadata": {
        "id": "x1HAitJpZ-u7"
      },
      "id": "x1HAitJpZ-u7",
      "execution_count": null,
      "outputs": []
    },
    {
      "cell_type": "markdown",
      "source": [
        "**7. Customers in top 20% by total spending**"
      ],
      "metadata": {
        "id": "r6DcJEwqaFl1"
      },
      "id": "r6DcJEwqaFl1"
    },
    {
      "cell_type": "code",
      "source": [
        "sql\n",
        "WITH ranked_customers AS (\n",
        "    SELECT customer_id,\n",
        "           first_name,\n",
        "           last_name,\n",
        "           SUM(amount) AS total_spent,\n",
        "           PERCENT_RANK() OVER (ORDER BY SUM(amount) DESC) AS percentile\n",
        "    FROM customer\n",
        "    JOIN payment ON customer.customer_id = payment.customer_id\n",
        "    GROUP BY customer_id, first_name, last_name\n",
        ")\n",
        "SELECT *\n",
        "FROM ranked_customers\n",
        "WHERE percentile <= 0.2;"
      ],
      "metadata": {
        "id": "8OkikswvaLgT"
      },
      "id": "8OkikswvaLgT",
      "execution_count": null,
      "outputs": []
    },
    {
      "cell_type": "markdown",
      "source": [
        "**Q8. Running total of rentals per category**"
      ],
      "metadata": {
        "id": "4y68WuxJaSGM"
      },
      "id": "4y68WuxJaSGM"
    },
    {
      "cell_type": "code",
      "source": [
        "sql\n",
        "SELECT c.name AS category_name,\n",
        "       COUNT(r.rental_id) AS rental_count,\n",
        "       SUM(COUNT(r.rental_id)) OVER (ORDER BY c.name) AS running_total\n",
        "FROM rental r\n",
        "JOIN inventory i ON r.inventory_id = i.inventory_id\n",
        "JOIN film f ON i.film_id = f.film_id\n",
        "JOIN film_category fc ON f.film_id = fc.film_id\n",
        "JOIN category c ON fc.category_id = c.category_id\n",
        "GROUP BY c.name;"
      ],
      "metadata": {
        "id": "mduCOkRDaYuW"
      },
      "id": "mduCOkRDaYuW",
      "execution_count": null,
      "outputs": []
    },
    {
      "cell_type": "markdown",
      "source": [
        "**Q9. Films rented less than the average rental count in their category**"
      ],
      "metadata": {
        "id": "PEsn3Sa7adwW"
      },
      "id": "PEsn3Sa7adwW"
    },
    {
      "cell_type": "code",
      "source": [
        "sql\n",
        "WITH film_rentals AS (\n",
        "    SELECT f.film_id,\n",
        "           f.title,\n",
        "           c.name AS category,\n",
        "           COUNT(r.rental_id) AS rental_count\n",
        "    FROM film f\n",
        "    JOIN film_category fc ON f.film_id = fc.film_id\n",
        "    JOIN category c ON fc.category_id = c.category_id\n",
        "    JOIN inventory i ON f.film_id = i.film_id\n",
        "    JOIN rental r ON i.inventory_id = r.inventory_id\n",
        "    GROUP BY f.film_id, f.title, c.name\n",
        "),\n",
        "avg_rentals AS (\n",
        "    SELECT category,\n",
        "           AVG(rental_count) AS avg_rentals\n",
        "    FROM film_rentals\n",
        "    GROUP BY category\n",
        ")\n",
        "SELECT fr.title,\n",
        "       fr.category,\n",
        "       fr.rental_count,\n",
        "       ar.avg_rentals\n",
        "FROM film_rentals fr\n",
        "JOIN avg_rentals ar ON fr.category = ar.category\n",
        "WHERE fr.rental_count < ar.avg_rentals;"
      ],
      "metadata": {
        "id": "A-iZZhd3ajEq"
      },
      "id": "A-iZZhd3ajEq",
      "execution_count": null,
      "outputs": []
    },
    {
      "cell_type": "markdown",
      "source": [
        "**Q10. Top 5 months with highest revenue**"
      ],
      "metadata": {
        "id": "x_I4FQqAaqBf"
      },
      "id": "x_I4FQqAaqBf"
    },
    {
      "id": "80a6e225-5f9b-4a5f-a550-6aae27614c11",
      "cell_type": "code",
      "source": [
        "sql\n",
        "SELECT revenue_month,\n",
        "       total_revenue\n",
        "FROM (\n",
        "    SELECT DATE_FORMAT(payment_date, '%Y-%m') AS revenue_month,\n",
        "           SUM(amount) AS total_revenue,\n",
        "           RANK() OVER (ORDER BY SUM(amount) DESC) AS revenue_rank\n",
        "    FROM payment\n",
        "    GROUP BY DATE_FORMAT(payment_date, '%Y-%m')\n",
        ") ranked_months\n",
        "WHERE revenue_rank <= 5;\n"
      ],
      "metadata": {
        "trusted": true,
        "id": "80a6e225-5f9b-4a5f-a550-6aae27614c11"
      },
      "outputs": [],
      "execution_count": null
    },
    {
      "cell_type": "markdown",
      "source": [
        "**Normalisation & CTE**"
      ],
      "metadata": {
        "id": "iu18XcEva3tG"
      },
      "id": "iu18XcEva3tG"
    },
    {
      "cell_type": "markdown",
      "source": [
        "**Normalization :**"
      ],
      "metadata": {
        "id": "zwJg2jMhbIjK"
      },
      "id": "zwJg2jMhbIjK"
    },
    {
      "cell_type": "markdown",
      "source": [
        "**Q1. First Normal Form (1NF)**"
      ],
      "metadata": {
        "id": "-iA5Kf5JbR__"
      },
      "id": "-iA5Kf5JbR__"
    },
    {
      "cell_type": "code",
      "source": [
        "> **1NF Rule**: All table attributes must contain **atomic** (indivisible) values.\n",
        "\n",
        "**Violation Example:**\n",
        "\n",
        "* Suppose a hypothetical table `customer_phone` with a column `phone_numbers` like:\n",
        "\n",
        "  ```\n",
        "  | customer_id | phone_numbers         |\n",
        "  |-------------|------------------------|\n",
        "  | 1           | 1234567890, 9876543210 |\n",
        "  ```\n",
        "\n",
        "**Fix:**\n",
        "\n",
        "* Normalize into:\n",
        "\n",
        "  ```\n",
        "  customer_id | phone_number\n",
        "  ------------|--------------\n",
        "  1           | 1234567890\n",
        "  1           | 9876543210"
      ],
      "metadata": {
        "id": "qUtg2OKfcI6A"
      },
      "id": "qUtg2OKfcI6A",
      "execution_count": null,
      "outputs": []
    },
    {
      "cell_type": "markdown",
      "source": [
        "**Q2. Second Normal Form (2NF)**"
      ],
      "metadata": {
        "id": "Tog-4GYbcUya"
      },
      "id": "Tog-4GYbcUya"
    },
    {
      "cell_type": "code",
      "source": [
        "> **2NF Rule**: No **partial dependencies** on a composite primary key.\n",
        "\n",
        "**Example Table**: `film_actor`\n",
        "\n",
        "* Composite PK: (`film_id`, `actor_id`)\n",
        "* If an attribute like `actor_name` was stored in this table, it's only dependent on `actor_id`.\n",
        "\n",
        "**Fix:**\n",
        "\n",
        "* Move `actor_name` to a separate `actor` table where `actor_id` is the primary key."
      ],
      "metadata": {
        "id": "4o6wgHEYcfgS"
      },
      "id": "4o6wgHEYcfgS",
      "execution_count": null,
      "outputs": []
    },
    {
      "cell_type": "markdown",
      "source": [
        "**Q3. Third Normal Form (3NF)**"
      ],
      "metadata": {
        "id": "x48y312WclkP"
      },
      "id": "x48y312WclkP"
    },
    {
      "cell_type": "code",
      "source": [
        "\n",
        "> **3NF Rule**: No **transitive dependencies** — all non-key columns must depend only on the primary key.\n",
        "\n",
        "**Example Table**: Suppose a table:\n",
        "\n",
        "```\n",
        "| payment_id | customer_id | customer_name | amount |\n",
        "```\n",
        "\n",
        "* `customer_name` depends on `customer_id`, not directly on `payment_id`.\n",
        "\n",
        "**Fix:**\n",
        "\n",
        "* Move `customer_name` to a separate `customer` table."
      ],
      "metadata": {
        "id": "Y2zJvoh6cvoa"
      },
      "id": "Y2zJvoh6cvoa",
      "execution_count": null,
      "outputs": []
    },
    {
      "cell_type": "markdown",
      "source": [
        "**Q4. Normalization Process (up to 2NF)**"
      ],
      "metadata": {
        "id": "_wAemnGkc30-"
      },
      "id": "_wAemnGkc30-"
    },
    {
      "cell_type": "code",
      "source": [
        "**Unnormalized Table:**\n",
        "\n",
        "```\n",
        "| customer_id | customer_name | film_titles         |\n",
        "|-------------|----------------|---------------------|\n",
        "| 1           | Alice          | 'Matrix, Inception' |\n",
        "```\n",
        "\n",
        "**1NF:**\n",
        "\n",
        "```\n",
        "| customer_id | customer_name | film_title  |\n",
        "|-------------|----------------|-------------|\n",
        "| 1           | Alice          | Matrix      |\n",
        "| 1           | Alice          | Inception   |\n",
        "```\n",
        "\n",
        "**2NF:**\n",
        "\n",
        "* Remove redundant `customer_name` (dependent only on `customer_id`):\n",
        "\n",
        "```\n",
        "Customer Table:\n",
        "| customer_id | customer_name |\n",
        "\n",
        "Customer_Film Table:\n",
        "| customer_id | film_title    |"
      ],
      "metadata": {
        "id": "52GsLoFydFbi"
      },
      "id": "52GsLoFydFbi",
      "execution_count": null,
      "outputs": []
    },
    {
      "cell_type": "markdown",
      "source": [
        "**CTE (Common Table Expressions)**"
      ],
      "metadata": {
        "id": "Ci150GMkdNZD"
      },
      "id": "Ci150GMkdNZD"
    },
    {
      "cell_type": "markdown",
      "source": [
        "**5. CTE Basics – Actor name and number of films**"
      ],
      "metadata": {
        "id": "GdUwYecodUVM"
      },
      "id": "GdUwYecodUVM"
    },
    {
      "cell_type": "code",
      "source": [
        "sql\n",
        "WITH actor_films AS (\n",
        "    SELECT actor_id,\n",
        "           CONCAT(first_name, ' ', last_name) AS actor_name,\n",
        "           COUNT(film_id) AS film_count\n",
        "    FROM film_actor\n",
        "    JOIN actor USING (actor_id)\n",
        "    GROUP BY actor_id, actor_name\n",
        ")\n",
        "SELECT * FROM actor_films;"
      ],
      "metadata": {
        "id": "OrgA8JnWdaOm"
      },
      "id": "OrgA8JnWdaOm",
      "execution_count": null,
      "outputs": []
    },
    {
      "cell_type": "markdown",
      "source": [
        "**Q6. CTE with Joins – Film title, language name, rental rate**"
      ],
      "metadata": {
        "id": "4sN0-BcDdh5A"
      },
      "id": "4sN0-BcDdh5A"
    },
    {
      "cell_type": "code",
      "source": [
        "sql\n",
        "WITH film_info AS (\n",
        "    SELECT f.title,\n",
        "           l.name AS language,\n",
        "           f.rental_rate\n",
        "    FROM film f\n",
        "    JOIN language l ON f.language_id = l.language_id\n",
        ")\n",
        "SELECT * FROM film_info;"
      ],
      "metadata": {
        "id": "0GR4h6u4dsWf"
      },
      "id": "0GR4h6u4dsWf",
      "execution_count": null,
      "outputs": []
    },
    {
      "cell_type": "markdown",
      "source": [
        "**Q7. CTE for Aggregation – Total revenue by customer**\n"
      ],
      "metadata": {
        "id": "LaQp0CEVeDCI"
      },
      "id": "LaQp0CEVeDCI"
    },
    {
      "cell_type": "code",
      "source": [
        "sql\n",
        "WITH customer_revenue AS (\n",
        "    SELECT customer_id,\n",
        "           SUM(amount) AS total_revenue\n",
        "    FROM payment\n",
        "    GROUP BY customer_id\n",
        ")\n",
        "SELECT c.first_name, c.last_name, cr.total_revenue\n",
        "FROM customer c\n",
        "JOIN customer_revenue cr ON c.customer_id = cr.customer_id;"
      ],
      "metadata": {
        "id": "nRBfHO_YdsQI"
      },
      "id": "nRBfHO_YdsQI",
      "execution_count": null,
      "outputs": []
    },
    {
      "cell_type": "markdown",
      "source": [
        "**Q8. CTE with Window Functions – Rank films by rental duration**"
      ],
      "metadata": {
        "id": "TQsZ8kjXeR8r"
      },
      "id": "TQsZ8kjXeR8r"
    },
    {
      "cell_type": "code",
      "source": [
        "sql\n",
        "WITH film_ranks AS (\n",
        "    SELECT title,\n",
        "           rental_duration,\n",
        "           RANK() OVER (ORDER BY rental_duration DESC) AS rank_by_duration\n",
        "    FROM film\n",
        ")\n",
        "SELECT * FROM film_ranks;"
      ],
      "metadata": {
        "id": "fbALS_NOeY0v"
      },
      "id": "fbALS_NOeY0v",
      "execution_count": null,
      "outputs": []
    },
    {
      "cell_type": "markdown",
      "source": [
        "**Q9. CTE and Filtering – Customers with more than 2 rentals**"
      ],
      "metadata": {
        "id": "VrnR7g1aeeKi"
      },
      "id": "VrnR7g1aeeKi"
    },
    {
      "cell_type": "code",
      "source": [
        "sql\n",
        "WITH frequent_customers AS (\n",
        "    SELECT customer_id,\n",
        "           COUNT(*) AS rental_count\n",
        "    FROM rental\n",
        "    GROUP BY customer_id\n",
        "    HAVING COUNT(*) > 2\n",
        ")\n",
        "SELECT c.customer_id, c.first_name, c.last_name\n",
        "FROM customer c\n",
        "JOIN frequent_customers f ON c.customer_id = f.customer_id;"
      ],
      "metadata": {
        "id": "1tqU7S9ZekSv"
      },
      "id": "1tqU7S9ZekSv",
      "execution_count": null,
      "outputs": []
    },
    {
      "cell_type": "markdown",
      "source": [
        "**Q10. CTE for Date Calculations – Rentals per month**"
      ],
      "metadata": {
        "id": "vIM57eaZeqJZ"
      },
      "id": "vIM57eaZeqJZ"
    },
    {
      "cell_type": "code",
      "source": [
        "sql\n",
        "WITH monthly_rentals AS (\n",
        "    SELECT DATE_FORMAT(rental_date, '%Y-%m') AS rental_month,\n",
        "           COUNT(*) AS total_rentals\n",
        "    FROM rental\n",
        "    GROUP BY rental_month\n",
        ")\n",
        "SELECT * FROM monthly_rentals;"
      ],
      "metadata": {
        "id": "bE0qcPnxev92"
      },
      "id": "bE0qcPnxev92",
      "execution_count": null,
      "outputs": []
    },
    {
      "cell_type": "markdown",
      "source": [
        "**Q11. CTE and Self-Join – Pairs of actors in same film**"
      ],
      "metadata": {
        "id": "MvFB3nr_e26i"
      },
      "id": "MvFB3nr_e26i"
    },
    {
      "cell_type": "code",
      "source": [
        "sql\n",
        "WITH actor_pairs AS (\n",
        "    SELECT fa1.film_id,\n",
        "           fa1.actor_id AS actor1,\n",
        "           fa2.actor_id AS actor2\n",
        "    FROM film_actor fa1\n",
        "    JOIN film_actor fa2 ON fa1.film_id = fa2.film_id\n",
        "    WHERE fa1.actor_id < fa2.actor_id\n",
        ")\n",
        "SELECT a1.first_name AS actor1_first, a1.last_name AS actor1_last,\n",
        "       a2.first_name AS actor2_first, a2.last_name AS actor2_last,\n",
        "       f.title\n",
        "FROM actor_pairs ap\n",
        "JOIN actor a1 ON ap.actor1 = a1.actor_id\n",
        "JOIN actor a2 ON ap.actor2 = a2.actor_id\n",
        "JOIN film f ON ap.film_id = f.film_id;"
      ],
      "metadata": {
        "id": "kqPOXjlMe9GH"
      },
      "id": "kqPOXjlMe9GH",
      "execution_count": null,
      "outputs": []
    },
    {
      "cell_type": "markdown",
      "source": [
        "**Q12. Recursive CTE – Find employees reporting to a specific manager**"
      ],
      "metadata": {
        "id": "OuvMgkNefBvj"
      },
      "id": "OuvMgkNefBvj"
    },
    {
      "cell_type": "markdown",
      "source": [
        "Assuming `staff(reports_to)` exists (not in Sakila, but for demo):"
      ],
      "metadata": {
        "id": "oj0T__yjfKMq"
      },
      "id": "oj0T__yjfKMq"
    },
    {
      "cell_type": "code",
      "source": [
        "sql\n",
        "WITH RECURSIVE subordinates AS (\n",
        "    SELECT staff_id, first_name, last_name, reports_to\n",
        "    FROM staff\n",
        "    WHERE staff_id = 1  -- starting manager\n",
        "\n",
        "    UNION ALL\n",
        "\n",
        "    SELECT s.staff_id, s.first_name, s.last_name, s.reports_to\n",
        "    FROM staff s\n",
        "    JOIN subordinates sub ON s.reports_to = sub.staff_id\n",
        ")\n",
        "SELECT * FROM subordinates;"
      ],
      "metadata": {
        "id": "KtODuMqSfOTd"
      },
      "id": "KtODuMqSfOTd",
      "execution_count": null,
      "outputs": []
    }
  ]
}